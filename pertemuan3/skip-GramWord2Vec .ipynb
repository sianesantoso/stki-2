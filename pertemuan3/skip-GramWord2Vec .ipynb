{
 "cells": [
  {
   "cell_type": "code",
   "execution_count": 1,
   "id": "3843c697-3e58-416d-ba46-6bb9c6d7cb28",
   "metadata": {},
   "outputs": [],
   "source": [
    "import numpy as np"
   ]
  },
  {
   "cell_type": "code",
   "execution_count": 3,
   "id": "ac376293-9712-40e1-bae2-7faa57d22389",
   "metadata": {},
   "outputs": [],
   "source": [
    "np.random.seed(42)"
   ]
  },
  {
   "cell_type": "code",
   "execution_count": 5,
   "id": "10349891-3cfa-423a-a9fb-1287e69e696c",
   "metadata": {},
   "outputs": [
    {
     "name": "stdout",
     "output_type": "stream",
     "text": [
      "Vector 'peace': [0 1 0 0 1 0 0]\n"
     ]
    }
   ],
   "source": [
    "# Vector baru untuk kata \"peace\" dengan dimensi berbeda (7 dimensi dibandingkan 6 sebelumnya)\n",
    "v_peace = np.array([0, 1, 0, 0, 1, 0, 0])  # \"peace\"\n",
    "print(\"Vector 'peace':\", v_peace)"
   ]
  },
  {
   "cell_type": "code",
   "execution_count": 7,
   "id": "0c095a14-da9a-4818-9371-f29f0cd7aa8e",
   "metadata": {},
   "outputs": [
    {
     "name": "stdout",
     "output_type": "stream",
     "text": [
      "Weight matrix:\n",
      " [[0.37454012 0.95071431 0.73199394 0.59865848]\n",
      " [0.15601864 0.15599452 0.05808361 0.86617615]\n",
      " [0.60111501 0.70807258 0.02058449 0.96990985]\n",
      " [0.83244264 0.21233911 0.18182497 0.18340451]\n",
      " [0.30424224 0.52475643 0.43194502 0.29122914]\n",
      " [0.61185289 0.13949386 0.29214465 0.36636184]\n",
      " [0.45606998 0.78517596 0.19967378 0.51423444]]\n"
     ]
    }
   ],
   "source": [
    "# Matriks bobot baru dengan dimensi yang disesuaikan (7, 4) sebagai ilustrasi\n",
    "weight = np.random.random_sample((7, 4))\n",
    "print(\"Weight matrix:\\n\", weight)"
   ]
  },
  {
   "cell_type": "code",
   "execution_count": 9,
   "id": "a3e41491-c941-4fb8-b72c-981185a216c1",
   "metadata": {},
   "outputs": [
    {
     "name": "stdout",
     "output_type": "stream",
     "text": [
      "Hidden layer (Skip-Gram): [0.46026088 0.68075095 0.49002863 1.15740529]\n"
     ]
    }
   ],
   "source": [
    "# Perhitungan hidden layer untuk model Skip-Gram\n",
    "hidden_layer_sg = np.dot(v_peace, weight)\n",
    "print(\"Hidden layer (Skip-Gram):\", hidden_layer_sg)"
   ]
  },
  {
   "cell_type": "code",
   "execution_count": 11,
   "id": "e1accff5-cbd9-4764-a052-a7a5d7fb0944",
   "metadata": {},
   "outputs": [
    {
     "name": "stdout",
     "output_type": "stream",
     "text": [
      "Weight prime matrix:\n",
      " [[0.59241457 0.04645041 0.60754485 0.17052412 0.06505159 0.94888554\n",
      "  0.96563203]\n",
      " [0.80839735 0.30461377 0.09767211 0.68423303 0.44015249 0.12203823\n",
      "  0.49517691]\n",
      " [0.03438852 0.9093204  0.25877998 0.66252228 0.31171108 0.52006802\n",
      "  0.54671028]\n",
      " [0.18485446 0.96958463 0.77513282 0.93949894 0.89482735 0.59789998\n",
      "  0.92187424]]\n"
     ]
    }
   ],
   "source": [
    "# Matriks bobot baru untuk output layer\n",
    "weight_prime = np.random.random_sample((4, 7))\n",
    "print(\"Weight prime matrix:\\n\", weight_prime)"
   ]
  },
  {
   "cell_type": "code",
   "execution_count": 13,
   "id": "cf400873-8cf4-478c-88a3-a79334e0b56d",
   "metadata": {},
   "outputs": [
    {
     "name": "stdout",
     "output_type": "stream",
     "text": [
      "Output layer result: [1.0537854  1.79654083 1.37007194 1.9563138  1.51800019 1.46667336\n",
      " 2.11642061]\n"
     ]
    }
   ],
   "source": [
    "# Perhitungan output layer\n",
    "o_love = np.dot(hidden_layer_sg, weight_prime)\n",
    "print(\"Output layer result:\", o_love)"
   ]
  }
 ],
 "metadata": {
  "kernelspec": {
   "display_name": "Python 3 (ipykernel)",
   "language": "python",
   "name": "python3"
  },
  "language_info": {
   "codemirror_mode": {
    "name": "ipython",
    "version": 3
   },
   "file_extension": ".py",
   "mimetype": "text/x-python",
   "name": "python",
   "nbconvert_exporter": "python",
   "pygments_lexer": "ipython3",
   "version": "3.12.3"
  }
 },
 "nbformat": 4,
 "nbformat_minor": 5
}
