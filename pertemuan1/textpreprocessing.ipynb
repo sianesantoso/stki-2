{
 "cells": [
  {
   "cell_type": "code",
   "execution_count": 51,
   "id": "25c2203d-e631-4966-b524-e006e15fd5e0",
   "metadata": {},
   "outputs": [],
   "source": [
    "import pandas as pd\n",
    "import re"
   ]
  },
  {
   "cell_type": "code",
   "execution_count": 53,
   "id": "74d53858-b4e6-4d69-a151-74cb6da503e4",
   "metadata": {},
   "outputs": [],
   "source": [
    "# Load the dataset\n",
    "file_path = 'kamus_clean.csv'\n",
    "data = pd.read_csv(file_path)"
   ]
  },
  {
   "cell_type": "code",
   "execution_count": 55,
   "id": "446037f2-3688-4300-bd5d-bc0a5cfddbf8",
   "metadata": {},
   "outputs": [],
   "source": [
    "# 1. Bersihkan dataset kamus\n",
    "# Drop unnecessary columns and remove duplicates\n",
    "data_cleaned = data.drop(columns=['Unnamed: 0']).drop_duplicates()"
   ]
  },
  {
   "cell_type": "code",
   "execution_count": 57,
   "id": "bbbe5792-c7d0-44a0-b415-41c57043de8c",
   "metadata": {},
   "outputs": [],
   "source": [
    "# Convert all text to lowercase\n",
    "data_cleaned['TIDAK BAKU'] = data_cleaned['TIDAK BAKU'].str.lower()\n",
    "data_cleaned['BAKU'] = data_cleaned['BAKU'].str.lower()"
   ]
  },
  {
   "cell_type": "code",
   "execution_count": 59,
   "id": "0aa3297b-9ca1-4ad4-bac6-aa85f912964a",
   "metadata": {},
   "outputs": [],
   "source": [
    "# Remove any special characters or numbers in \"TIDAK BAKU\" and \"BAKU\" columns\n",
    "data_cleaned['TIDAK BAKU'] = data_cleaned['TIDAK BAKU'].apply(lambda x: re.sub(r'[^a-z\\s]', '', x))\n",
    "data_cleaned['BAKU'] = data_cleaned['BAKU'].apply(lambda x: re.sub(r'[^a-z\\s]', '', x))"
   ]
  },
  {
   "cell_type": "code",
   "execution_count": 61,
   "id": "925c4e17-b028-4dd0-83c7-2845c17b0f4d",
   "metadata": {},
   "outputs": [],
   "source": [
    "# Convert the cleaned data into a dictionary for normalization\n",
    "normalization_dict = dict(zip(data_cleaned['TIDAK BAKU'], data_cleaned['BAKU']))"
   ]
  },
  {
   "cell_type": "code",
   "execution_count": 63,
   "id": "cb296f4e-9484-4fcd-9f41-c6b61cd0dfcd",
   "metadata": {},
   "outputs": [],
   "source": [
    "def preprocess_text(text):\n",
    "    # Convert text to lowercase\n",
    "    text = text.lower()\n",
    "    \n",
    "    # Remove special characters and numbers\n",
    "    text = re.sub(r'[^a-z\\s]', '', text)\n",
    "    \n",
    "    # Split text into words\n",
    "    words = text.split()\n",
    "    normalized_words = []\n",
    "    \n",
    "    for word in words:\n",
    "        # Replace non-standard word with standard form if available\n",
    "        normalized_word = normalization_dict.get(word, word)\n",
    "        normalized_words.append(normalized_word)\n",
    "    \n",
    "    # Join words back to a single string without duplicates or additional spaces\n",
    "    processed_text = ' '.join(normalized_words).strip()\n",
    "    return processed_text\n"
   ]
  },
  {
   "cell_type": "code",
   "execution_count": 67,
   "id": "48005a0a-7b5b-4843-bd3a-b543e4044e06",
   "metadata": {},
   "outputs": [
    {
     "name": "stdout",
     "output_type": "stream",
     "text": [
      "Teks Asli 1: Abstarck adalah konsep yang sebenenarnya kompleks.\n",
      "Teks Setelah Preprocessing 1: abstrak adalah konsep yang sebenarnya kompleks\n",
      "\n",
      "Teks Asli 2: Ini evolusionis dalam pendekatan baru.\n",
      "Teks Setelah Preprocessing 2: ini revolusioner dalam pendekatan baru\n"
     ]
    }
   ],
   "source": [
    "# Contoh penggunaan\n",
    "# Contoh kalimat\n",
    "sample_text_1 = \"Abstarck adalah konsep yang sebenenarnya kompleks.\"\n",
    "sample_text_2 = \"Ini evolusionis dalam pendekatan baru.\"\n",
    "\n",
    "# Preprocessing pada contoh kalimat\n",
    "processed_text_1 = preprocess_text(sample_text_1)\n",
    "processed_text_2 = preprocess_text(sample_text_2)\n",
    "\n",
    "# Cetak hasilnya\n",
    "print(\"Teks Asli 1:\", sample_text_1)\n",
    "print(\"Teks Setelah Preprocessing 1:\", processed_text_1)\n",
    "print(\"\\nTeks Asli 2:\", sample_text_2)\n",
    "print(\"Teks Setelah Preprocessing 2:\", processed_text_2)"
   ]
  },
  {
   "cell_type": "code",
   "execution_count": null,
   "id": "485edb7d-7bbf-4405-bb55-7153fc297162",
   "metadata": {},
   "outputs": [],
   "source": []
  }
 ],
 "metadata": {
  "kernelspec": {
   "display_name": "Python 3 (ipykernel)",
   "language": "python",
   "name": "python3"
  },
  "language_info": {
   "codemirror_mode": {
    "name": "ipython",
    "version": 3
   },
   "file_extension": ".py",
   "mimetype": "text/x-python",
   "name": "python",
   "nbconvert_exporter": "python",
   "pygments_lexer": "ipython3",
   "version": "3.12.3"
  }
 },
 "nbformat": 4,
 "nbformat_minor": 5
}
