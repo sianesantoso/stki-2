{
 "cells": [
  {
   "cell_type": "code",
   "execution_count": 9,
   "id": "2ace7d77-92e8-4abe-99e5-dc6bcf3ee25a",
   "metadata": {},
   "outputs": [],
   "source": [
    "import pandas as pd\n",
    "from sklearn.feature_extraction.text import TfidfVectorizer\n",
    "from sklearn.metrics.pairwise import cosine_similarity\n",
    "import nltk\n",
    "from nltk.corpus import stopwords\n",
    "from Sastrawi.Stemmer.StemmerFactory import StemmerFactory\n",
    "import re"
   ]
  },
  {
   "cell_type": "code",
   "execution_count": 13,
   "id": "0c2a343e-7945-4591-a07c-b649ac0e78a2",
   "metadata": {},
   "outputs": [],
   "source": [
    "# Unduh stopwords Bahasa Indonesia (jika belum)\n",
    "stop_words = stopwords.words('indonesian')"
   ]
  },
  {
   "cell_type": "code",
   "execution_count": 15,
   "id": "44488e05-6128-4248-bebd-5cbdb01e468a",
   "metadata": {},
   "outputs": [],
   "source": [
    "# Inisialisasi stemmer Bahasa Indonesia\n",
    "factory = StemmerFactory()\n",
    "stemmer = factory.create_stemmer()"
   ]
  },
  {
   "cell_type": "code",
   "execution_count": 17,
   "id": "a19f259f-288f-4e14-b73c-8b9aea7e1235",
   "metadata": {},
   "outputs": [],
   "source": [
    "# Fungsi preprocessing\n",
    "def preprocess(text):\n",
    "    # Mengubah ke huruf kecil\n",
    "    text = text.lower()\n",
    "    # Menghapus angka dan tanda baca\n",
    "    text = re.sub(r'[^a-z\\s]', '', text)\n",
    "    # Stemming\n",
    "    text = stemmer.stem(text)\n",
    "    # Tokenisasi dan menghapus stopwords\n",
    "    tokens = text.split()\n",
    "    tokens = [word for word in tokens if word not in stop_words]\n",
    "    return ' '.join(tokens)"
   ]
  },
  {
   "cell_type": "code",
   "execution_count": 19,
   "id": "3d80d283-bc1d-4108-8402-d4543ea659e3",
   "metadata": {},
   "outputs": [],
   "source": [
    "# Load file Excel dan ambil data penting\n",
    "file_path = \"SimilarityTest.xlsx\"\n",
    "data = pd.read_excel(file_path, sheet_name='Sheet1', skiprows=4)"
   ]
  },
  {
   "cell_type": "code",
   "execution_count": 21,
   "id": "54984b66-8660-4c9f-b5fd-57c617526467",
   "metadata": {},
   "outputs": [],
   "source": [
    "# Gabungkan kolom yang relevan dan terapkan preprocessing\n",
    "dokumen = data.iloc[:, 2:5].fillna(\"\").apply(lambda x: ' '.join(x.astype(str)), axis=1).apply(preprocess)"
   ]
  },
  {
   "cell_type": "code",
   "execution_count": 23,
   "id": "685b152c-8935-4476-ac93-0157ccf1d702",
   "metadata": {},
   "outputs": [],
   "source": [
    "# Inisialisasi TF-IDF Vectorizer dengan n-grams (bigram)\n",
    "vectorizer = TfidfVectorizer(ngram_range=(1,2))"
   ]
  },
  {
   "cell_type": "code",
   "execution_count": 25,
   "id": "bc453b11-6a3b-44e0-8063-398370db5588",
   "metadata": {},
   "outputs": [],
   "source": [
    "# Fit dan transform dokumen menjadi vektor TF-IDF\n",
    "tfidf_matrix = vectorizer.fit_transform(dokumen)"
   ]
  },
  {
   "cell_type": "code",
   "execution_count": 27,
   "id": "7300ad2f-8023-41a7-b6db-e5ecbc1a7354",
   "metadata": {},
   "outputs": [],
   "source": [
    "# Fungsi untuk mencari dokumen yang relevan\n",
    "def cari_dokumen_relevan(kueri, tfidf_matrix, dokumen):\n",
    "    kueri_processed = preprocess(kueri)\n",
    "    kueri_vec = vectorizer.transform([kueri_processed])  # Vektorisasi kueri\n",
    "    similarity = cosine_similarity(kueri_vec, tfidf_matrix).flatten()  # Hitung cosine similarity\n",
    "    indeks_terbaik = similarity.argsort()[::-1]  # Urutkan berdasarkan skor kemiripan\n",
    "\n",
    "    # Tampilkan dokumen yang paling relevan\n",
    "    print(f\"Kueri: '{kueri}'\")\n",
    "    print(\"\\nDokumen paling relevan:\")\n",
    "    for i in indeks_terbaik[:3]:  # Ambil 3 dokumen teratas\n",
    "        print(f\"Dokumen {i + 1}: {dokumen[i]} (Skor: {similarity[i]:.4f})\")"
   ]
  },
  {
   "cell_type": "code",
   "execution_count": 29,
   "id": "bbb195d6-2a52-442f-9012-bffcf4e61194",
   "metadata": {},
   "outputs": [
    {
     "name": "stdout",
     "output_type": "stream",
     "text": [
      "Kueri: 'kawin lari'\n",
      "\n",
      "Dokumen paling relevan:\n",
      "Dokumen 4: kawin (Skor: 0.7071)\n",
      "Dokumen 5: lari (Skor: 0.7071)\n",
      "Dokumen 18: lari (Skor: 0.7071)\n"
     ]
    }
   ],
   "source": [
    "# Contoh penggunaan\n",
    "kueri = \"kawin lari\"\n",
    "cari_dokumen_relevan(kueri, tfidf_matrix, dokumen)"
   ]
  },
  {
   "cell_type": "code",
   "execution_count": null,
   "id": "c1ccf4d6-8e11-452e-a5ac-9cae71ffeb3a",
   "metadata": {},
   "outputs": [],
   "source": []
  }
 ],
 "metadata": {
  "kernelspec": {
   "display_name": "Python 3 (ipykernel)",
   "language": "python",
   "name": "python3"
  },
  "language_info": {
   "codemirror_mode": {
    "name": "ipython",
    "version": 3
   },
   "file_extension": ".py",
   "mimetype": "text/x-python",
   "name": "python",
   "nbconvert_exporter": "python",
   "pygments_lexer": "ipython3",
   "version": "3.12.3"
  }
 },
 "nbformat": 4,
 "nbformat_minor": 5
}
